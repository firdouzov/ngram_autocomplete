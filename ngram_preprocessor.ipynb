{
 "cells": [
  {
   "cell_type": "code",
   "execution_count": 20,
   "id": "d640ac67",
   "metadata": {},
   "outputs": [
    {
     "name": "stderr",
     "output_type": "stream",
     "text": [
      "[nltk_data] Downloading package punkt to\n",
      "[nltk_data]     C:\\Users\\aydin.firdouzov\\AppData\\Roaming\\nltk_data...\n",
      "[nltk_data]   Package punkt is already up-to-date!\n",
      "[nltk_data] Downloading package punkt_tab to\n",
      "[nltk_data]     C:\\Users\\aydin.firdouzov\\AppData\\Roaming\\nltk_data...\n",
      "[nltk_data]   Package punkt_tab is already up-to-date!\n"
     ]
    }
   ],
   "source": [
    "import math\n",
    "import random\n",
    "import numpy as np\n",
    "import pandas as pd\n",
    "import nltk\n",
    "nltk.download('punkt')\n",
    "nltk.download('punkt_tab')\n",
    "nltk.data.path.append('.')\n",
    "import polars as pl\n",
    "from nltk.tokenize import RegexpTokenizer\n",
    "import pickle\n",
    "import gzip\n"
   ]
  },
  {
   "cell_type": "code",
   "execution_count": 21,
   "id": "f6289c28",
   "metadata": {},
   "outputs": [
    {
     "data": {
      "text/html": [
       "<div>\n",
       "<style scoped>\n",
       "    .dataframe tbody tr th:only-of-type {\n",
       "        vertical-align: middle;\n",
       "    }\n",
       "\n",
       "    .dataframe tbody tr th {\n",
       "        vertical-align: top;\n",
       "    }\n",
       "\n",
       "    .dataframe thead th {\n",
       "        text-align: right;\n",
       "    }\n",
       "</style>\n",
       "<table border=\"1\" class=\"dataframe\">\n",
       "  <thead>\n",
       "    <tr style=\"text-align: right;\">\n",
       "      <th></th>\n",
       "      <th>date</th>\n",
       "      <th>id</th>\n",
       "      <th>title</th>\n",
       "      <th>text</th>\n",
       "    </tr>\n",
       "  </thead>\n",
       "  <tbody>\n",
       "    <tr>\n",
       "      <th>0</th>\n",
       "      <td>2013-10-02</td>\n",
       "      <td>23</td>\n",
       "      <td>Rusiya Gürcüstan torpaqlarını ələ keçirmək ist...</td>\n",
       "      <td>Gürcüstan prezidenti Mixail Saakaşvili Rusiyay...</td>\n",
       "    </tr>\n",
       "    <tr>\n",
       "      <th>1</th>\n",
       "      <td>2013-10-02</td>\n",
       "      <td>24</td>\n",
       "      <td>Netanyahu İran prezidentini “qurd” adlandırdı</td>\n",
       "      <td>\"Axar.az\" saytının İsrail mətbuatına istinadən...</td>\n",
       "    </tr>\n",
       "    <tr>\n",
       "      <th>2</th>\n",
       "      <td>2013-10-03</td>\n",
       "      <td>30</td>\n",
       "      <td>Kişilərə yaşamağa imkan verməyən qadınlar imiş</td>\n",
       "      <td>Bu gün dünyanın aparıcı ölkələrində insanların...</td>\n",
       "    </tr>\n",
       "    <tr>\n",
       "      <th>3</th>\n",
       "      <td>2013-10-18</td>\n",
       "      <td>337</td>\n",
       "      <td>Hansı məşhur neçə kilodur?</td>\n",
       "      <td>Mətbuatın daim diqqət mərkəzində olan ulduzlar...</td>\n",
       "    </tr>\n",
       "    <tr>\n",
       "      <th>4</th>\n",
       "      <td>2013-10-18</td>\n",
       "      <td>340</td>\n",
       "      <td>2014-cü ilin saç modelləri</td>\n",
       "      <td>2014-cü ilin payız-qış sezonunun ən dəbli saç ...</td>\n",
       "    </tr>\n",
       "  </tbody>\n",
       "</table>\n",
       "</div>"
      ],
      "text/plain": [
       "         date   id                                              title  \\\n",
       "0  2013-10-02   23  Rusiya Gürcüstan torpaqlarını ələ keçirmək ist...   \n",
       "1  2013-10-02   24      Netanyahu İran prezidentini “qurd” adlandırdı   \n",
       "2  2013-10-03   30     Kişilərə yaşamağa imkan verməyən qadınlar imiş   \n",
       "3  2013-10-18  337                         Hansı məşhur neçə kilodur?   \n",
       "4  2013-10-18  340                         2014-cü ilin saç modelləri   \n",
       "\n",
       "                                                text  \n",
       "0  Gürcüstan prezidenti Mixail Saakaşvili Rusiyay...  \n",
       "1  \"Axar.az\" saytının İsrail mətbuatına istinadən...  \n",
       "2  Bu gün dünyanın aparıcı ölkələrində insanların...  \n",
       "3  Mətbuatın daim diqqət mərkəzində olan ulduzlar...  \n",
       "4  2014-cü ilin payız-qış sezonunun ən dəbli saç ...  "
      ]
     },
     "execution_count": 21,
     "metadata": {},
     "output_type": "execute_result"
    }
   ],
   "source": [
    "\n",
    "\n",
    "df = pl.read_parquet('hf://datasets/LocalDoc/news_azerbaijan/data/train-*.parquet')\n",
    "df = df.to_pandas()\n",
    "df.head()"
   ]
  },
  {
   "cell_type": "code",
   "execution_count": 22,
   "id": "ed50d1cb",
   "metadata": {},
   "outputs": [
    {
     "data": {
      "text/plain": [
       "array(['Gürcüstan prezidenti Mixail Saakaşvili Rusiyaya qarşı daha bir kəskin ittiham səsləndirib. Gürcüstanın \"Apsyn.ge\" saytının verdiyi məlumata görə, Saakaşvili bildirib ki, Bakı-Supsa nef kəməri vasitəsi ilə Rusiya Gürcüstan torpaqlarını ələ keçirmək istəyir: \"Artıq xeyli torpaq sahəsi ələ keçirilib. Onların məqsədi Bakı-Supsa strateji neft kəmərini də tikanlı məftillərlə əhatə etməkdir. Hamımız özümüzü ələ almalıyıq. İndi bölücülük, kin, xal qazanmaq vaxtı deyil. Gürcüstanın məqsədi torpaqlarımızın təhlükəli ilhaqını birdəfəlik dayandırmaqdır\". \"Axar.az\" saytı olaraq bu barədə vaxtilə Rusiyada səfir kimi fəaliyyət göstərmiş politoloq Hikmət Hacızadədən münasibət öyrəndik. Hikmət bəy məsələni belə bir lakonik fikirlə ifadə etdi: \"Rusiya yenə öz ampluasındadır. Demək istəyir ki, harada biz varıq, ora bizimkidir. Harada neft varsa, ora da bizimdir. Təxminən belə bir lotuluq etmək istəyir\".',\n",
       "       '\"Axar.az\" saytının İsrail mətbuatına istinadən verdiyi məlumata görə, İsrailin Baş Naziri Benyamin Netanyahu İran İslam Respublikasının prezidenti Həsən Ruhanini tənqid edərkən belə ifadələr səsləndirib: \"Əhmədinecat qurd cildinə girmiş quzudur, ancaq Ruhani quzu cildinə girmiş qurddur\". Birləşmiş Millətlər Təşkilatının 68-ci Dövr Baş Məclisinin son iştirakçısı olaraq kürsüyə çıxan Netanyahu İranın nüvə proqramını və İranlı səlahiyyətlilərin son dövrdə başlatdıqları mülayim yanaşmanı hədəfə alıb. Netanyahu həmçinin İsrailin beyəlxalq arenada tək qalsa belə İranın nüvə silahına sahib olmağına izn verməyəcəyini, Suriyada günahsız insanların öldürülməsinə İranın da şərik olduğunu dilə gətirib.',\n",
       "       'Bu gün dünyanın aparıcı ölkələrində insanların yaşamaq üçün maksimum yaş həddi 89,6 il kimi götürülür. Dünyanın aparıcı ölkələrinin araşdırmalarında göstərilir ki, ən çox ömür sürən qadınlardır. Kişilərlə müqayisədə qadınlar 7 yaş çox ömür sürürlər. BBC Ümumdünya Səhiyyə Təşkilatının hesabatında bildirilir ki, Avropada kişilər qadınlardan az yaşayır. Cinslər arasında ömür fərqi ortalama 7,5 ildir. Qadınlarda bərpa mexanizmi Aradakı fərqi isə yaşam tərzi ilə əlaqələndirirlər. Bunu qadınların kişilərdən fərqli olaraq zərərli vərdişlərdən uzaq olması ilə izah edirlər. Üstəlik bildirilir ki, qadınların bütün zərərlərə qarşı bərpaedici funkisiyaları var. Həkimlər bunu həyat tərzi və iş şəraitinin fərqli olması ilə bağlayırlar. Amerikalı alimlər bildirirlər ki, qadınların orqanizmi zərər görən hüceyrələri bərpa etmə funksiyasına malikdir. Bu funksiya kişilərdə olmadığından, onlar itirilmiş hüceyrələri bir daha qazana bilmirlər. İnsanlar uzun ömrün səbəbini yaxşı, xoşbəxt həyat tərzi sürməklə də əlaqələndirirlər. Bakı ərazisində isə yaşı yüzü keçən cəmi 56 insan var ki, onların da hamısı qadınlardır. Evdar qadınlar daha çox yaşayır İşgüzar xanımlarla müqayisədə evdar xanımlar daha çox yaşayır. Aparılan araşdırmalarda göstərilir ki, evdar xanımlar daim evdə oturmaqlarından şikayətlənsələr də, bundan məmnunluq hissi duyurlar. Bu da onların çox yaşamaqları ilə nəticələnir. Azərbaycan uzunömürlülüyü ilə daim fərqlənib. 1989-cu ildə Azərbaycanda 2645 uzunömürlü qeydə alınıb. Onlar arasında qadınlar liderliklərini qoruyub saxlaya biliblər. 2000-ci ildə isə gözlənilən ömür həddi ümumilikdə 71,8 il olub. Bu, qadınlarda 75,1, kişilərdə isə 68,6 yaş təşkil edib. 2000-ci ildən fərqli olaraq, hazırda ortalama yaş həddində artım müşahidə olunur. Statistika Komitəsindən bildirilir ki, ölkədə ortalama yaş həddi 73,6 ildir. Hazırda Azərbaycanda 100 yaşından yuxarı 923 insan pensiya alır. Onlardan 855 nəfəri qadın, 68-i isə kişidir.'],\n",
       "      dtype=object)"
      ]
     },
     "execution_count": 22,
     "metadata": {},
     "output_type": "execute_result"
    }
   ],
   "source": [
    "dataset = df['text'].values\n",
    "dataset[:3]"
   ]
  },
  {
   "cell_type": "code",
   "execution_count": 25,
   "id": "19143104",
   "metadata": {},
   "outputs": [],
   "source": [
    "def lower(text: list[str]) -> list[str]:\n",
    "  \"\"\"\n",
    "  Lowerize and tokenize the documents\n",
    "\n",
    "  :param text: list of documents\n",
    "  \"\"\"\n",
    "  lower_text = text.lower()\n",
    "  tokenizer = RegexpTokenizer(r'\\w+')\n",
    "  lower_text = tokenizer.tokenize(lower_text)\n",
    "  return lower_text"
   ]
  },
  {
   "cell_type": "code",
   "execution_count": 26,
   "id": "addeef50",
   "metadata": {},
   "outputs": [],
   "source": [
    "dataset = dataset[dataset != None]\n",
    "train_data = []\n",
    "for i,text in enumerate(dataset):\n",
    "  train_data.append(lower(text))"
   ]
  },
  {
   "cell_type": "code",
   "execution_count": 27,
   "id": "131a2b4c",
   "metadata": {},
   "outputs": [],
   "source": [
    "def word_count(data: list[str]) -> dict:\n",
    "  \"\"\"\n",
    "  Word counter by documents\n",
    "\n",
    "  :param data: tokenized document dataset\n",
    "  \"\"\"\n",
    "  word_counts = {}\n",
    "  for text in data:\n",
    "    for word in text:\n",
    "      if word not in word_counts:\n",
    "        word_counts[word] = 1\n",
    "      else:\n",
    "        word_counts[word] += 1\n",
    "  return word_counts"
   ]
  },
  {
   "cell_type": "code",
   "execution_count": 28,
   "id": "7d9a449a",
   "metadata": {},
   "outputs": [],
   "source": [
    "train_data_count = word_count(train_data)"
   ]
  },
  {
   "cell_type": "code",
   "execution_count": 29,
   "id": "69f41479",
   "metadata": {},
   "outputs": [],
   "source": [
    "train_data_count = {k: v for k,v in train_data_count.items() if k not in (',',\"''\",\"”\",\"``\",'\"\"','\"',\"'\",\"'\")}"
   ]
  },
  {
   "cell_type": "code",
   "execution_count": 30,
   "id": "3eedbdd8",
   "metadata": {},
   "outputs": [],
   "source": [
    "def threshold_count(count: dict,threshold : int) -> dict:\n",
    "  \"\"\"\n",
    "  Filter the counter dictionary with threshold\n",
    "  \n",
    "  :param count: word counter dictionary\n",
    "  :param threshold: threshold value for filtering the dictionary\n",
    "  \"\"\"\n",
    "  word_count = {}\n",
    "  for word,count in count.items():\n",
    "    if count>threshold:\n",
    "      word_count[word] = count\n",
    "  return word_count"
   ]
  },
  {
   "cell_type": "code",
   "execution_count": 31,
   "id": "43b64911",
   "metadata": {},
   "outputs": [],
   "source": [
    "train_data_threshold_count = threshold_count(train_data_count,300)"
   ]
  },
  {
   "cell_type": "code",
   "execution_count": 32,
   "id": "aa0f812d",
   "metadata": {},
   "outputs": [],
   "source": [
    "def unk_words(test_data: dict,vocab: list[str],unk_token='<UNK>') -> dict:  \n",
    "  \"\"\"\n",
    "  Assign Unkown tag to words which cann't pass the threshold filter\n",
    "\n",
    "  :param test_data: Test dataset for applying tag\n",
    "  :param vocab: Vocabulary of the data\n",
    "  :param unk_token: String variable of unknown tag\n",
    "  \"\"\"\n",
    "  for text in test_data:\n",
    "    for i,word in enumerate(text):\n",
    "      if word not in vocab:\n",
    "        text[i] = unk_token\n",
    "  return test_data"
   ]
  },
  {
   "cell_type": "code",
   "execution_count": 33,
   "id": "abce905e",
   "metadata": {},
   "outputs": [],
   "source": [
    "train_data_unk = unk_words(train_data,train_data_threshold_count.keys())"
   ]
  },
  {
   "cell_type": "code",
   "execution_count": 34,
   "id": "c986307f",
   "metadata": {},
   "outputs": [],
   "source": [
    "def define_ngrams(data: dict,n: int,start_token='<s>',end_token='</s>') -> dict:\n",
    "  \"\"\"\n",
    "  Function helps to create n grams\n",
    "\n",
    "  :param data: unknown tagged dataset\n",
    "  :param n: n-gram's n\n",
    "  :param start_token: start token for each document\n",
    "  :param end_token: end token for each document \n",
    "  \"\"\"\n",
    "  ngram_count = {}\n",
    "  for text in data:\n",
    "    text = [start_token]*n + text + [end_token]\n",
    "    for word in range(len(text)-n+1):\n",
    "      ngram = tuple(text[word:word+n])\n",
    "      ngram_count[ngram] = ngram_count.get(ngram,0)+1\n",
    "  return ngram_count"
   ]
  },
  {
   "cell_type": "code",
   "execution_count": 38,
   "id": "bcc5d8c0",
   "metadata": {},
   "outputs": [],
   "source": [
    "train_2gram_count = define_ngrams(train_data_unk,2)"
   ]
  },
  {
   "cell_type": "code",
   "execution_count": 39,
   "id": "c917de1c",
   "metadata": {},
   "outputs": [],
   "source": [
    "train_3gram_count = define_ngrams(train_data_unk,3)"
   ]
  },
  {
   "cell_type": "code",
   "execution_count": 40,
   "id": "36c3f3fe",
   "metadata": {},
   "outputs": [],
   "source": [
    "with gzip.open('bigram.pkl.gz', 'wb') as f:\n",
    "  pickle.dump(train_2gram_count, f)"
   ]
  },
  {
   "cell_type": "code",
   "execution_count": 41,
   "id": "dc52d279",
   "metadata": {},
   "outputs": [],
   "source": [
    "with gzip.open('trigram.pkl.gz', 'wb') as f:\n",
    "  pickle.dump(train_3gram_count, f)"
   ]
  },
  {
   "cell_type": "code",
   "execution_count": null,
   "id": "8d33a24b",
   "metadata": {},
   "outputs": [],
   "source": []
  }
 ],
 "metadata": {
  "kernelspec": {
   "display_name": "base",
   "language": "python",
   "name": "python3"
  },
  "language_info": {
   "codemirror_mode": {
    "name": "ipython",
    "version": 3
   },
   "file_extension": ".py",
   "mimetype": "text/x-python",
   "name": "python",
   "nbconvert_exporter": "python",
   "pygments_lexer": "ipython3",
   "version": "3.11.5"
  }
 },
 "nbformat": 4,
 "nbformat_minor": 5
}
